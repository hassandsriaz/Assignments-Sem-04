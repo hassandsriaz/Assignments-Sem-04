{
  "nbformat": 4,
  "nbformat_minor": 0,
  "metadata": {
    "colab": {
      "provenance": []
    },
    "kernelspec": {
      "name": "python3",
      "display_name": "Python 3"
    },
    "language_info": {
      "name": "python"
    }
  },
  "cells": [
    {
      "cell_type": "markdown",
      "source": [
        "#Assignment No. 2 - Probability distributions and their role in data analysis\n",
        "\n",
        "*Khuzaima Yunus - 2021409*  \n",
        "*Hassan Riaz - 2021223*"
      ],
      "metadata": {
        "id": "KxBgmV-6Zxpr"
      }
    },
    {
      "cell_type": "markdown",
      "source": [
        "## Google Drive Connection, Libraries Import & DataFrame Creation"
      ],
      "metadata": {
        "id": "RV0NVTm-cH_w"
      }
    },
    {
      "cell_type": "code",
      "source": [
        "from google.colab import drive\n",
        "drive.mount('/content/gdrive')"
      ],
      "metadata": {
        "colab": {
          "base_uri": "https://localhost:8080/"
        },
        "id": "yddRUL0Yb7v_",
        "outputId": "97bafbdf-eb89-4c9a-b4cd-86752476aa12"
      },
      "execution_count": 2,
      "outputs": [
        {
          "output_type": "stream",
          "name": "stdout",
          "text": [
            "Mounted at /content/gdrive\n"
          ]
        }
      ]
    },
    {
      "cell_type": "code",
      "source": [
        "import pandas as pd\n",
        "import numpy as np\n",
        "import matplotlib.pyplot as plt\n",
        "from scipy.stats import poisson"
      ],
      "metadata": {
        "id": "804vawKur2HH"
      },
      "execution_count": 3,
      "outputs": []
    },
    {
      "cell_type": "markdown",
      "source": [
        "### Dataset Downloaded From Kaggle, click the hyperlink for details\n",
        "\n",
        "<a href=\"https://www.kaggle.com/datasets/huzzefakhan/zameencom-property-data-pakistan\">Zameen.com Property Data Pakistan</a>"
      ],
      "metadata": {
        "id": "IQVwC2ofdNap"
      }
    },
    {
      "cell_type": "code",
      "source": [
        "# Khuzaima 'Path'\n",
        "data = pd.read_csv(\"/content/gdrive/MyDrive/Colab Notebooks/DS221/Property_with_Feature_Engineering.csv\")\n"
      ],
      "metadata": {
        "id": "_MTdBD_cr8dt"
      },
      "execution_count": 8,
      "outputs": []
    },
    {
      "cell_type": "code",
      "source": [
        "# Hassan 'Path'\n",
        "data = pd.read_csv(\"/content/gdrive/MyDrive/Datasets/Property_with_Feature_Engineering.csv\")"
      ],
      "metadata": {
        "id": "WTeZdbbZd4sC"
      },
      "execution_count": null,
      "outputs": []
    },
    {
      "cell_type": "code",
      "source": [
        "data.head()\n"
      ],
      "metadata": {
        "colab": {
          "base_uri": "https://localhost:8080/",
          "height": 543
        },
        "id": "gvOMSihxsODP",
        "outputId": "13478db9-b873-49c7-b3cd-17b3aeecc519"
      },
      "execution_count": 16,
      "outputs": [
        {
          "output_type": "execute_result",
          "data": {
            "text/plain": [
              "   property_id  location_id  \\\n",
              "0       347795            8   \n",
              "1       482892           48   \n",
              "2       555962           75   \n",
              "3       562843         3821   \n",
              "4       686990         3522   \n",
              "\n",
              "                                            page_url property_type      price  \\\n",
              "0  https://www.zameen.com/Property/lahore_model_t...         House  220000000   \n",
              "1  https://www.zameen.com/Property/lahore_multan_...         House   40000000   \n",
              "2  https://www.zameen.com/Property/eden_eden_aven...         House    9500000   \n",
              "3  https://www.zameen.com/Property/gulberg_2_gulb...         House  125000000   \n",
              "4  https://www.zameen.com/Property/allama_iqbal_t...         House   21000000   \n",
              "\n",
              "   price_bin           location    city province_name  \\\n",
              "0  Very High         Model Town  Lahore        Punjab   \n",
              "1  Very High        Multan Road  Lahore        Punjab   \n",
              "2        Low               Eden  Lahore        Punjab   \n",
              "3  Very High            Gulberg  Lahore        Punjab   \n",
              "4       High  Allama Iqbal Town  Lahore        Punjab   \n",
              "\n",
              "                            locality  ...  area_marla  area_sqft   purpose  \\\n",
              "0         Model Town, Lahore, Punjab  ...       120.0   32670.12  For Sale   \n",
              "1        Multan Road, Lahore, Punjab  ...        20.0    5445.02  For Sale   \n",
              "2               Eden, Lahore, Punjab  ...         9.0    2450.26  For Sale   \n",
              "3            Gulberg, Lahore, Punjab  ...        20.0    5445.02  For Sale   \n",
              "4  Allama Iqbal Town, Lahore, Punjab  ...        11.0    2994.76  For Sale   \n",
              "\n",
              "  bedrooms  date_added  year month  day                  agency  \\\n",
              "0        0  07-17-2019  2019     7   17  Real Biz International   \n",
              "1        5  10-06-2018  2018    10    6             Khan Estate   \n",
              "2        3  07-03-2019  2019     7    3         Shahum Estate 2   \n",
              "3        8  04-04-2019  2019     4    4                     NaN   \n",
              "4        6  04-04-2019  2019     4    4                     NaN   \n",
              "\n",
              "                     agent  \n",
              "0               Usama Khan  \n",
              "1         mohsinkhan and B  \n",
              "2  Babar Hameed, Raja Omar  \n",
              "3                      NaN  \n",
              "4                      NaN  \n",
              "\n",
              "[5 rows x 24 columns]"
            ],
            "text/html": [
              "\n",
              "  <div id=\"df-7410dfa6-221b-45b3-b06a-c058c98fac48\">\n",
              "    <div class=\"colab-df-container\">\n",
              "      <div>\n",
              "<style scoped>\n",
              "    .dataframe tbody tr th:only-of-type {\n",
              "        vertical-align: middle;\n",
              "    }\n",
              "\n",
              "    .dataframe tbody tr th {\n",
              "        vertical-align: top;\n",
              "    }\n",
              "\n",
              "    .dataframe thead th {\n",
              "        text-align: right;\n",
              "    }\n",
              "</style>\n",
              "<table border=\"1\" class=\"dataframe\">\n",
              "  <thead>\n",
              "    <tr style=\"text-align: right;\">\n",
              "      <th></th>\n",
              "      <th>property_id</th>\n",
              "      <th>location_id</th>\n",
              "      <th>page_url</th>\n",
              "      <th>property_type</th>\n",
              "      <th>price</th>\n",
              "      <th>price_bin</th>\n",
              "      <th>location</th>\n",
              "      <th>city</th>\n",
              "      <th>province_name</th>\n",
              "      <th>locality</th>\n",
              "      <th>...</th>\n",
              "      <th>area_marla</th>\n",
              "      <th>area_sqft</th>\n",
              "      <th>purpose</th>\n",
              "      <th>bedrooms</th>\n",
              "      <th>date_added</th>\n",
              "      <th>year</th>\n",
              "      <th>month</th>\n",
              "      <th>day</th>\n",
              "      <th>agency</th>\n",
              "      <th>agent</th>\n",
              "    </tr>\n",
              "  </thead>\n",
              "  <tbody>\n",
              "    <tr>\n",
              "      <th>0</th>\n",
              "      <td>347795</td>\n",
              "      <td>8</td>\n",
              "      <td>https://www.zameen.com/Property/lahore_model_t...</td>\n",
              "      <td>House</td>\n",
              "      <td>220000000</td>\n",
              "      <td>Very High</td>\n",
              "      <td>Model Town</td>\n",
              "      <td>Lahore</td>\n",
              "      <td>Punjab</td>\n",
              "      <td>Model Town, Lahore, Punjab</td>\n",
              "      <td>...</td>\n",
              "      <td>120.0</td>\n",
              "      <td>32670.12</td>\n",
              "      <td>For Sale</td>\n",
              "      <td>0</td>\n",
              "      <td>07-17-2019</td>\n",
              "      <td>2019</td>\n",
              "      <td>7</td>\n",
              "      <td>17</td>\n",
              "      <td>Real Biz International</td>\n",
              "      <td>Usama Khan</td>\n",
              "    </tr>\n",
              "    <tr>\n",
              "      <th>1</th>\n",
              "      <td>482892</td>\n",
              "      <td>48</td>\n",
              "      <td>https://www.zameen.com/Property/lahore_multan_...</td>\n",
              "      <td>House</td>\n",
              "      <td>40000000</td>\n",
              "      <td>Very High</td>\n",
              "      <td>Multan Road</td>\n",
              "      <td>Lahore</td>\n",
              "      <td>Punjab</td>\n",
              "      <td>Multan Road, Lahore, Punjab</td>\n",
              "      <td>...</td>\n",
              "      <td>20.0</td>\n",
              "      <td>5445.02</td>\n",
              "      <td>For Sale</td>\n",
              "      <td>5</td>\n",
              "      <td>10-06-2018</td>\n",
              "      <td>2018</td>\n",
              "      <td>10</td>\n",
              "      <td>6</td>\n",
              "      <td>Khan Estate</td>\n",
              "      <td>mohsinkhan and B</td>\n",
              "    </tr>\n",
              "    <tr>\n",
              "      <th>2</th>\n",
              "      <td>555962</td>\n",
              "      <td>75</td>\n",
              "      <td>https://www.zameen.com/Property/eden_eden_aven...</td>\n",
              "      <td>House</td>\n",
              "      <td>9500000</td>\n",
              "      <td>Low</td>\n",
              "      <td>Eden</td>\n",
              "      <td>Lahore</td>\n",
              "      <td>Punjab</td>\n",
              "      <td>Eden, Lahore, Punjab</td>\n",
              "      <td>...</td>\n",
              "      <td>9.0</td>\n",
              "      <td>2450.26</td>\n",
              "      <td>For Sale</td>\n",
              "      <td>3</td>\n",
              "      <td>07-03-2019</td>\n",
              "      <td>2019</td>\n",
              "      <td>7</td>\n",
              "      <td>3</td>\n",
              "      <td>Shahum Estate 2</td>\n",
              "      <td>Babar Hameed, Raja Omar</td>\n",
              "    </tr>\n",
              "    <tr>\n",
              "      <th>3</th>\n",
              "      <td>562843</td>\n",
              "      <td>3821</td>\n",
              "      <td>https://www.zameen.com/Property/gulberg_2_gulb...</td>\n",
              "      <td>House</td>\n",
              "      <td>125000000</td>\n",
              "      <td>Very High</td>\n",
              "      <td>Gulberg</td>\n",
              "      <td>Lahore</td>\n",
              "      <td>Punjab</td>\n",
              "      <td>Gulberg, Lahore, Punjab</td>\n",
              "      <td>...</td>\n",
              "      <td>20.0</td>\n",
              "      <td>5445.02</td>\n",
              "      <td>For Sale</td>\n",
              "      <td>8</td>\n",
              "      <td>04-04-2019</td>\n",
              "      <td>2019</td>\n",
              "      <td>4</td>\n",
              "      <td>4</td>\n",
              "      <td>NaN</td>\n",
              "      <td>NaN</td>\n",
              "    </tr>\n",
              "    <tr>\n",
              "      <th>4</th>\n",
              "      <td>686990</td>\n",
              "      <td>3522</td>\n",
              "      <td>https://www.zameen.com/Property/allama_iqbal_t...</td>\n",
              "      <td>House</td>\n",
              "      <td>21000000</td>\n",
              "      <td>High</td>\n",
              "      <td>Allama Iqbal Town</td>\n",
              "      <td>Lahore</td>\n",
              "      <td>Punjab</td>\n",
              "      <td>Allama Iqbal Town, Lahore, Punjab</td>\n",
              "      <td>...</td>\n",
              "      <td>11.0</td>\n",
              "      <td>2994.76</td>\n",
              "      <td>For Sale</td>\n",
              "      <td>6</td>\n",
              "      <td>04-04-2019</td>\n",
              "      <td>2019</td>\n",
              "      <td>4</td>\n",
              "      <td>4</td>\n",
              "      <td>NaN</td>\n",
              "      <td>NaN</td>\n",
              "    </tr>\n",
              "  </tbody>\n",
              "</table>\n",
              "<p>5 rows × 24 columns</p>\n",
              "</div>\n",
              "      <button class=\"colab-df-convert\" onclick=\"convertToInteractive('df-7410dfa6-221b-45b3-b06a-c058c98fac48')\"\n",
              "              title=\"Convert this dataframe to an interactive table.\"\n",
              "              style=\"display:none;\">\n",
              "        \n",
              "  <svg xmlns=\"http://www.w3.org/2000/svg\" height=\"24px\"viewBox=\"0 0 24 24\"\n",
              "       width=\"24px\">\n",
              "    <path d=\"M0 0h24v24H0V0z\" fill=\"none\"/>\n",
              "    <path d=\"M18.56 5.44l.94 2.06.94-2.06 2.06-.94-2.06-.94-.94-2.06-.94 2.06-2.06.94zm-11 1L8.5 8.5l.94-2.06 2.06-.94-2.06-.94L8.5 2.5l-.94 2.06-2.06.94zm10 10l.94 2.06.94-2.06 2.06-.94-2.06-.94-.94-2.06-.94 2.06-2.06.94z\"/><path d=\"M17.41 7.96l-1.37-1.37c-.4-.4-.92-.59-1.43-.59-.52 0-1.04.2-1.43.59L10.3 9.45l-7.72 7.72c-.78.78-.78 2.05 0 2.83L4 21.41c.39.39.9.59 1.41.59.51 0 1.02-.2 1.41-.59l7.78-7.78 2.81-2.81c.8-.78.8-2.07 0-2.86zM5.41 20L4 18.59l7.72-7.72 1.47 1.35L5.41 20z\"/>\n",
              "  </svg>\n",
              "      </button>\n",
              "      \n",
              "  <style>\n",
              "    .colab-df-container {\n",
              "      display:flex;\n",
              "      flex-wrap:wrap;\n",
              "      gap: 12px;\n",
              "    }\n",
              "\n",
              "    .colab-df-convert {\n",
              "      background-color: #E8F0FE;\n",
              "      border: none;\n",
              "      border-radius: 50%;\n",
              "      cursor: pointer;\n",
              "      display: none;\n",
              "      fill: #1967D2;\n",
              "      height: 32px;\n",
              "      padding: 0 0 0 0;\n",
              "      width: 32px;\n",
              "    }\n",
              "\n",
              "    .colab-df-convert:hover {\n",
              "      background-color: #E2EBFA;\n",
              "      box-shadow: 0px 1px 2px rgba(60, 64, 67, 0.3), 0px 1px 3px 1px rgba(60, 64, 67, 0.15);\n",
              "      fill: #174EA6;\n",
              "    }\n",
              "\n",
              "    [theme=dark] .colab-df-convert {\n",
              "      background-color: #3B4455;\n",
              "      fill: #D2E3FC;\n",
              "    }\n",
              "\n",
              "    [theme=dark] .colab-df-convert:hover {\n",
              "      background-color: #434B5C;\n",
              "      box-shadow: 0px 1px 3px 1px rgba(0, 0, 0, 0.15);\n",
              "      filter: drop-shadow(0px 1px 2px rgba(0, 0, 0, 0.3));\n",
              "      fill: #FFFFFF;\n",
              "    }\n",
              "  </style>\n",
              "\n",
              "      <script>\n",
              "        const buttonEl =\n",
              "          document.querySelector('#df-7410dfa6-221b-45b3-b06a-c058c98fac48 button.colab-df-convert');\n",
              "        buttonEl.style.display =\n",
              "          google.colab.kernel.accessAllowed ? 'block' : 'none';\n",
              "\n",
              "        async function convertToInteractive(key) {\n",
              "          const element = document.querySelector('#df-7410dfa6-221b-45b3-b06a-c058c98fac48');\n",
              "          const dataTable =\n",
              "            await google.colab.kernel.invokeFunction('convertToInteractive',\n",
              "                                                     [key], {});\n",
              "          if (!dataTable) return;\n",
              "\n",
              "          const docLinkHtml = 'Like what you see? Visit the ' +\n",
              "            '<a target=\"_blank\" href=https://colab.research.google.com/notebooks/data_table.ipynb>data table notebook</a>'\n",
              "            + ' to learn more about interactive tables.';\n",
              "          element.innerHTML = '';\n",
              "          dataTable['output_type'] = 'display_data';\n",
              "          await google.colab.output.renderOutput(dataTable, element);\n",
              "          const docLink = document.createElement('div');\n",
              "          docLink.innerHTML = docLinkHtml;\n",
              "          element.appendChild(docLink);\n",
              "        }\n",
              "      </script>\n",
              "    </div>\n",
              "  </div>\n",
              "  "
            ]
          },
          "metadata": {},
          "execution_count": 16
        }
      ]
    },
    {
      "cell_type": "code",
      "source": [
        "data.describe()"
      ],
      "metadata": {
        "id": "6MdlL5bNsbi4"
      },
      "execution_count": null,
      "outputs": []
    },
    {
      "cell_type": "code",
      "source": [
        "data.head()"
      ],
      "metadata": {
        "id": "MqdLzEHksl2_"
      },
      "execution_count": null,
      "outputs": []
    },
    {
      "cell_type": "markdown",
      "source": [
        "## 1. Poisson Distribution of Daily Property Count "
      ],
      "metadata": {
        "id": "qCgGMqSgcSyr"
      }
    },
    {
      "cell_type": "code",
      "source": [
        "daily_properties = data.groupby(['year', 'month', 'day']).size().reset_index(name='count')\n",
        "\n",
        "# Calculate the mean and standard deviation of the daily property count\n",
        "mu = daily_properties['count'].mean()\n",
        "sigma = daily_properties['count'].std()\n",
        "\n",
        "# Set the range of x values\n",
        "x = np.arange(poisson.ppf(0.01, mu), poisson.ppf(0.99, mu))\n",
        "\n",
        "# Plot the Poisson distribution\n",
        "plt.plot(x, poisson.pmf(x, mu), 'bo', ms=8, label='Poisson PMF')\n",
        "\n",
        "# Add labels and title\n",
        "plt.xlabel('Number of Properties Added per Day')\n",
        "plt.ylabel('Probability')\n",
        "plt.title('Poisson Distribution of Daily Property Count')\n",
        "\n",
        "# Show the plot\n",
        "plt.show()\n"
      ],
      "metadata": {
        "colab": {
          "base_uri": "https://localhost:8080/",
          "height": 330
        },
        "id": "hbynK19avUke",
        "outputId": "b233a7ec-9aca-4281-c099-2b8cd9f41f18"
      },
      "execution_count": null,
      "outputs": [
        {
          "output_type": "display_data",
          "data": {
            "text/plain": [
              "<Figure size 432x288 with 1 Axes>"
            ],
            "image/png": "[encoded data removed]"
          },
          "metadata": {
            "needs_background": "light"
          }
        },
        {
          "output_type": "stream",
          "name": "stdout",
          "text": [
            "Mean: 16446553.542564252\n",
            "Standard Deviation: 34164116.78823364\n"
          ]
        }
      ]
    },
    {
      "cell_type": "code",
      "source": [
        "price_mean = data['price'].mean()\n",
        "price_std = data['price'].std()\n",
        "mean = int(round(price_mean,-6))\n",
        "std = int(round(price_std,-6))\n",
        "# Display the mean and standard deviation\n",
        "print('Mean:', mean)\n",
        "print('Standard Deviation:', std)"
      ],
      "metadata": {
        "colab": {
          "base_uri": "https://localhost:8080/"
        },
        "id": "5pqRiTSs3Yun",
        "outputId": "9478cdf0-f172-4d79-ff6f-029cb579974b"
      },
      "execution_count": 14,
      "outputs": [
        {
          "output_type": "stream",
          "name": "stdout",
          "text": [
            "Mean: 16000000\n",
            "Standard Deviation: 34000000\n"
          ]
        }
      ]
    },
    {
      "cell_type": "markdown",
      "source": [
        "## 2. Expected Value Of Property Area In Islamabad"
      ],
      "metadata": {
        "id": "xOVj8rZSh0fL"
      }
    },
    {
      "cell_type": "code",
      "source": [
        "# Group the data by city and property type, and then calculate the mean area for each group\n",
        "grouped_data = data.loc[data[\"city\"] == \"Islamabad\"].groupby([\"property_type\"])[\"area_marla\"].mean()\n",
        "\n",
        "# Plot the data\n",
        "grouped_data.plot(kind=\"bar\")\n",
        "plt.title(\"Expected Value of Property Area in Islamabad\")\n",
        "plt.xlabel(\"Property Type\")\n",
        "plt.ylabel(\"Expected Property Area (marla)\")\n",
        "plt.show()"
      ],
      "metadata": {
        "colab": {
          "base_uri": "https://localhost:8080/",
          "height": 353
        },
        "id": "uFyu2wy-gcN5",
        "outputId": "22456cf0-7bec-48b3-f809-35dbdc062978"
      },
      "execution_count": 21,
      "outputs": [
        {
          "output_type": "display_data",
          "data": {
            "text/plain": [
              "<Figure size 432x288 with 1 Axes>"
            ],
            "image/png": "[encoded data removed]"
          },
          "metadata": {
            "needs_background": "light"
          }
        }
      ]
    },
    {
      "cell_type": "markdown",
      "source": [
        "## 3. Variance Of Property Area By Province"
      ],
      "metadata": {
        "id": "NG_94lLsidPG"
      }
    },
    {
      "cell_type": "code",
      "source": [
        "# Group the data by province, and then calculate the variance and standard deviation of the area_sqft column for each group\n",
        "grouped_data = data.groupby(\"province_name\")[\"area_sqft\"].agg([\"var\"])\n",
        "\n",
        "# Plot the data\n",
        "grouped_data.plot(kind=\"bar\", y=[\"var\"])\n",
        "plt.title(\"Variance of Property Area by Province\")\n",
        "plt.xlabel(\"Province\")\n",
        "plt.ylabel(\"Area (sqft)\")\n",
        "plt.show()"
      ],
      "metadata": {
        "colab": {
          "base_uri": "https://localhost:8080/",
          "height": 375
        },
        "id": "4xtDH0c3iFeb",
        "outputId": "5b34cae8-df98-4380-9d55-9eae49361899"
      },
      "execution_count": 23,
      "outputs": [
        {
          "output_type": "display_data",
          "data": {
            "text/plain": [
              "<Figure size 432x288 with 1 Axes>"
            ],
            "image/png": "[encoded data removed]"
          },
          "metadata": {
            "needs_background": "light"
          }
        }
      ]
    },
    {
      "cell_type": "markdown",
      "source": [
        "## 4. Price Distribution "
      ],
      "metadata": {
        "id": "AlTKydXXeS2S"
      }
    },
    {
      "cell_type": "code",
      "source": [
        "from scipy.stats import norm\n",
        "# create histogram\n",
        "plt.hist(data['price'], bins=100, density=True, alpha=0.6, color='g')\n",
        "\n",
        "# create normal distribution curve\n",
        "mu, std = norm.fit(data['price'])\n",
        "xmin, xmax = plt.xlim()\n",
        "x = np.linspace(xmin, xmax, 100)\n",
        "p = norm.pdf(x, mu, std)\n",
        "plt.plot(x, p, 'k', linewidth=2)\n",
        "\n",
        "# add labels and title\n",
        "plt.xlabel('Price')\n",
        "plt.ylabel('Density')\n",
        "plt.title('Price Distribution')\n",
        "\n",
        "plt.show()"
      ],
      "metadata": {
        "colab": {
          "base_uri": "https://localhost:8080/",
          "height": 295
        },
        "id": "9yckpa7Q4roA",
        "outputId": "1f58bb2d-613a-4011-9169-7d5d573b8888"
      },
      "execution_count": 13,
      "outputs": [
        {
          "output_type": "display_data",
          "data": {
            "text/plain": [
              "<Figure size 432x288 with 1 Axes>"
            ],
            "image/png": "[encoded data removed]"
          },
          "metadata": {
            "needs_background": "light"
          }
        }
      ]
    },
    {
      "cell_type": "markdown",
      "source": [
        "## 5. Normal Distribution Of Price in 2018"
      ],
      "metadata": {
        "id": "R6i2jNKOeYoI"
      }
    },
    {
      "cell_type": "code",
      "source": [
        "df = data\n",
        "# Step 1: Subset the dataframe by 2018 date_added\n",
        "df_2018 = df[df['date_added'].str.contains('2019')]\n",
        "\n",
        "# Step 2: Extract the price column\n",
        "price_2018 = df_2018['price']\n",
        "\n",
        "# Step 3: Calculate the mean and standard deviation\n",
        "mean = price_2018.mean()\n",
        "std_dev = price_2018.std()\n",
        "\n",
        "# Step 4: Create a normal distribution curve using mean and std_dev\n",
        "x_axis = np.linspace(price_2018.min(), price_2018.max(), 1000)\n",
        "y_axis = norm.pdf(x_axis, mean, std_dev)\n",
        "\n",
        "# Step 5: Plot the normal distribution curve\n",
        "plt.plot(x_axis, y_axis, color='blue')\n",
        "plt.title('Normal Distribution of Price in 2018')\n",
        "plt.xlabel('Price')\n",
        "plt.ylabel('Density')\n",
        "plt.show()"
      ],
      "metadata": {
        "colab": {
          "base_uri": "https://localhost:8080/",
          "height": 295
        },
        "id": "VFqiOLEU8pMl",
        "outputId": "3266eee7-3d01-4a9b-8333-1e03e4c9c858"
      },
      "execution_count": 15,
      "outputs": [
        {
          "output_type": "display_data",
          "data": {
            "text/plain": [
              "<Figure size 432x288 with 1 Axes>"
            ],
            "image/png": "[encoded data removed]"
          },
          "metadata": {
            "needs_background": "light"
          }
        }
      ]
    },
    {
      "cell_type": "markdown",
      "source": [
        "## 6. Top 10 Property Types with Most Sales in Karachi"
      ],
      "metadata": {
        "id": "uk9gBft4evA4"
      }
    },
    {
      "cell_type": "code",
      "source": [
        "df_karachi = df[df['city'] == 'Karachi']\n",
        "\n",
        "# Step 2: Group the subset by property_type and count the number of properties in each group\n",
        "grouped_df = df_karachi.groupby('property_type').size().reset_index(name='counts')\n",
        "\n",
        "# Step 3: Sort the groups in descending order of property count\n",
        "sorted_df = grouped_df.sort_values('counts', ascending=False)\n",
        "\n",
        "# Step 4: Extract the top 10 groups based on property count\n",
        "top_10 = sorted_df.head(10)\n",
        "\n",
        "# Step 5: Plot the top 10 groups using a bar chart\n",
        "plt.bar(top_10['property_type'], top_10['counts'], color='blue')\n",
        "plt.title('Top 10 Property Types with the Most Sales in Karachi')\n",
        "plt.xlabel('Property Type')\n",
        "plt.ylabel('Number of Properties')\n",
        "plt.xticks(rotation=90)\n",
        "plt.show()"
      ],
      "metadata": {
        "colab": {
          "base_uri": "https://localhost:8080/",
          "height": 353
        },
        "id": "AfVm0cKB-nvg",
        "outputId": "df358e36-cabf-4cf3-d638-30fc99017e85"
      },
      "execution_count": null,
      "outputs": [
        {
          "output_type": "display_data",
          "data": {
            "text/plain": [
              "<Figure size 432x288 with 1 Axes>"
            ],
            "image/png": "[encoded data removed]"
          },
          "metadata": {
            "needs_background": "light"
          }
        }
      ]
    },
    {
      "cell_type": "markdown",
      "source": [
        "## 7. Top 10 Property Types with Most Sales in Lahore"
      ],
      "metadata": {
        "id": "rSgTkqIEet9h"
      }
    },
    {
      "cell_type": "code",
      "source": [
        "df_karachi = df[df['city'] == 'Lahore']\n",
        "\n",
        "# Step 2: Group the subset by property_type and count the number of properties in each group\n",
        "grouped_df = df_karachi.groupby('property_type').size().reset_index(name='counts')\n",
        "\n",
        "# Step 3: Sort the groups in descending order of property count\n",
        "sorted_df = grouped_df.sort_values('counts', ascending=False)\n",
        "\n",
        "# Step 4: Extract the top 10 groups based on property count\n",
        "top_10 = sorted_df.head(10)\n",
        "\n",
        "# Step 5: Plot the top 10 groups using a bar chart\n",
        "plt.bar(top_10['property_type'], top_10['counts'], color='blue')\n",
        "plt.title('Top 10 Property Types with the Most Sales in lahore')\n",
        "plt.xlabel('Property Type')\n",
        "plt.ylabel('Number of Properties')\n",
        "plt.xticks(rotation=90)\n",
        "plt.show()"
      ],
      "metadata": {
        "colab": {
          "base_uri": "https://localhost:8080/",
          "height": 353
        },
        "id": "fmXLhRcc-skw",
        "outputId": "936c064b-113b-4cf4-94ff-2ef799879173"
      },
      "execution_count": null,
      "outputs": [
        {
          "output_type": "display_data",
          "data": {
            "text/plain": [
              "<Figure size 432x288 with 1 Axes>"
            ],
            "image/png": "[encoded data removed]"
          },
          "metadata": {
            "needs_background": "light"
          }
        }
      ]
    }
  ]
}