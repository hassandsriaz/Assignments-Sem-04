{
  "nbformat": 4,
  "nbformat_minor": 0,
  "metadata": {
    "colab": {
      "provenance": []
    },
    "kernelspec": {
      "name": "python3",
      "display_name": "Python 3"
    },
    "language_info": {
      "name": "python"
    }
  },
  "cells": [
    {
      "cell_type": "markdown",
      "source": [
        "________________________________________________________________________________________\n",
        "# Assignment  1 - DS 211\n",
        "##Hassan Riaz  \n",
        "*2021223*  \n",
        "________________________________________________________________________________________\n",
        "\n"
      ],
      "metadata": {
        "id": "PoJJtFYAOgSD"
      }
    },
    {
      "cell_type": "markdown",
      "source": [
        "Google drive connection"
      ],
      "metadata": {
        "id": "-GeYcRA1StTo"
      }
    },
    {
      "cell_type": "code",
      "source": [
        "from google.colab import drive\n",
        "drive.mount(\"/content/gdrives\")"
      ],
      "metadata": {
        "colab": {
          "base_uri": "https://localhost:8080/"
        },
        "id": "vmBUld67SonZ",
        "outputId": "0bf67e6a-4c14-4f14-b1f6-50e134bb17f5"
      },
      "execution_count": 1,
      "outputs": [
        {
          "output_type": "stream",
          "name": "stdout",
          "text": [
            "Mounted at /content/gdrives\n"
          ]
        }
      ]
    },
    {
      "cell_type": "code",
      "source": [
        "# libraries import\n",
        "import numpy as np\n",
        "import pandas as pd\n",
        "from matplotlib import pyplot as plt"
      ],
      "metadata": {
        "id": "qjA882SNWYs5"
      },
      "execution_count": 2,
      "outputs": []
    },
    {
      "cell_type": "code",
      "source": [
        "# Traffic Accident dataset Dataframe - while creating the dataframe i was getting an encoding error which was later fixed with help of stack overflow answers\n",
        "ta_df = pd.read_csv('/content/gdrives/MyDrive/Datasets/Pakistani_Traffic_Accidents.csv', encoding = 'unicode_escape', engine ='python')\n",
        "\n",
        "# Petrol Gas Prices Worldwide dataset Dataframe\n",
        "pgp_df = pd.read_csv('/content/gdrives/MyDrive/Datasets/Petrol_Gas_Prices_Worldwide.csv', encoding = 'unicode_escape', engine ='python')"
      ],
      "metadata": {
        "id": "qFiYv14VWcjd"
      },
      "execution_count": 50,
      "outputs": []
    },
    {
      "cell_type": "code",
      "source": [
        "# view first five rows of traffic accident dataframe\n",
        "ta_df.head()"
      ],
      "metadata": {
        "id": "KQvCwauiXdGh",
        "colab": {
          "base_uri": "https://localhost:8080/",
          "height": 206
        },
        "outputId": "cbe9fe2a-21bc-4423-aa4b-e551deec745c"
      },
      "execution_count": 4,
      "outputs": [
        {
          "output_type": "execute_result",
          "data": {
            "text/plain": [
              "  *- Islamabad Included. Unnamed: 1                 Unnamed: 2  \\\n",
              "0                    NaN        NaN                        NaN   \n",
              "1                    NaN       Year  Total number of accidents   \n",
              "2               Pakistan    2008-09                       9496   \n",
              "3               Pakistan    2009-10                       9747   \n",
              "4               Pakistan    2010-11                       9723   \n",
              "\n",
              "        Unnamed: 3           Unnamed: 4 Unnamed: 5 Unnamed: 6  \\\n",
              "0              NaN                  NaN        NaN        NaN   \n",
              "1  Fatal Accidents  Non-Fatal Accidents     Killed    Injured   \n",
              "2             4145                 5351       4907      11037   \n",
              "3             4378                 5369       5280      11173   \n",
              "4             4280                 5443       5271      11383   \n",
              "\n",
              "                          Unnamed: 7  \n",
              "0                                NaN  \n",
              "1  Total number of vehicles involved  \n",
              "2                              10322  \n",
              "3                              10496  \n",
              "4                              10822  "
            ],
            "text/html": [
              "\n",
              "  <div id=\"df-39d838a3-3bd1-45e4-b29f-6affcc55ea08\">\n",
              "    <div class=\"colab-df-container\">\n",
              "      <div>\n",
              "<style scoped>\n",
              "    .dataframe tbody tr th:only-of-type {\n",
              "        vertical-align: middle;\n",
              "    }\n",
              "\n",
              "    .dataframe tbody tr th {\n",
              "        vertical-align: top;\n",
              "    }\n",
              "\n",
              "    .dataframe thead th {\n",
              "        text-align: right;\n",
              "    }\n",
              "</style>\n",
              "<table border=\"1\" class=\"dataframe\">\n",
              "  <thead>\n",
              "    <tr style=\"text-align: right;\">\n",
              "      <th></th>\n",
              "      <th>*- Islamabad Included.</th>\n",
              "      <th>Unnamed: 1</th>\n",
              "      <th>Unnamed: 2</th>\n",
              "      <th>Unnamed: 3</th>\n",
              "      <th>Unnamed: 4</th>\n",
              "      <th>Unnamed: 5</th>\n",
              "      <th>Unnamed: 6</th>\n",
              "      <th>Unnamed: 7</th>\n",
              "    </tr>\n",
              "  </thead>\n",
              "  <tbody>\n",
              "    <tr>\n",
              "      <th>0</th>\n",
              "      <td>NaN</td>\n",
              "      <td>NaN</td>\n",
              "      <td>NaN</td>\n",
              "      <td>NaN</td>\n",
              "      <td>NaN</td>\n",
              "      <td>NaN</td>\n",
              "      <td>NaN</td>\n",
              "      <td>NaN</td>\n",
              "    </tr>\n",
              "    <tr>\n",
              "      <th>1</th>\n",
              "      <td>NaN</td>\n",
              "      <td>Year</td>\n",
              "      <td>Total number of accidents</td>\n",
              "      <td>Fatal Accidents</td>\n",
              "      <td>Non-Fatal Accidents</td>\n",
              "      <td>Killed</td>\n",
              "      <td>Injured</td>\n",
              "      <td>Total number of vehicles involved</td>\n",
              "    </tr>\n",
              "    <tr>\n",
              "      <th>2</th>\n",
              "      <td>Pakistan</td>\n",
              "      <td>2008-09</td>\n",
              "      <td>9496</td>\n",
              "      <td>4145</td>\n",
              "      <td>5351</td>\n",
              "      <td>4907</td>\n",
              "      <td>11037</td>\n",
              "      <td>10322</td>\n",
              "    </tr>\n",
              "    <tr>\n",
              "      <th>3</th>\n",
              "      <td>Pakistan</td>\n",
              "      <td>2009-10</td>\n",
              "      <td>9747</td>\n",
              "      <td>4378</td>\n",
              "      <td>5369</td>\n",
              "      <td>5280</td>\n",
              "      <td>11173</td>\n",
              "      <td>10496</td>\n",
              "    </tr>\n",
              "    <tr>\n",
              "      <th>4</th>\n",
              "      <td>Pakistan</td>\n",
              "      <td>2010-11</td>\n",
              "      <td>9723</td>\n",
              "      <td>4280</td>\n",
              "      <td>5443</td>\n",
              "      <td>5271</td>\n",
              "      <td>11383</td>\n",
              "      <td>10822</td>\n",
              "    </tr>\n",
              "  </tbody>\n",
              "</table>\n",
              "</div>\n",
              "      <button class=\"colab-df-convert\" onclick=\"convertToInteractive('df-39d838a3-3bd1-45e4-b29f-6affcc55ea08')\"\n",
              "              title=\"Convert this dataframe to an interactive table.\"\n",
              "              style=\"display:none;\">\n",
              "        \n",
              "  <svg xmlns=\"http://www.w3.org/2000/svg\" height=\"24px\"viewBox=\"0 0 24 24\"\n",
              "       width=\"24px\">\n",
              "    <path d=\"M0 0h24v24H0V0z\" fill=\"none\"/>\n",
              "    <path d=\"M18.56 5.44l.94 2.06.94-2.06 2.06-.94-2.06-.94-.94-2.06-.94 2.06-2.06.94zm-11 1L8.5 8.5l.94-2.06 2.06-.94-2.06-.94L8.5 2.5l-.94 2.06-2.06.94zm10 10l.94 2.06.94-2.06 2.06-.94-2.06-.94-.94-2.06-.94 2.06-2.06.94z\"/><path d=\"M17.41 7.96l-1.37-1.37c-.4-.4-.92-.59-1.43-.59-.52 0-1.04.2-1.43.59L10.3 9.45l-7.72 7.72c-.78.78-.78 2.05 0 2.83L4 21.41c.39.39.9.59 1.41.59.51 0 1.02-.2 1.41-.59l7.78-7.78 2.81-2.81c.8-.78.8-2.07 0-2.86zM5.41 20L4 18.59l7.72-7.72 1.47 1.35L5.41 20z\"/>\n",
              "  </svg>\n",
              "      </button>\n",
              "      \n",
              "  <style>\n",
              "    .colab-df-container {\n",
              "      display:flex;\n",
              "      flex-wrap:wrap;\n",
              "      gap: 12px;\n",
              "    }\n",
              "\n",
              "    .colab-df-convert {\n",
              "      background-color: #E8F0FE;\n",
              "      border: none;\n",
              "      border-radius: 50%;\n",
              "      cursor: pointer;\n",
              "      display: none;\n",
              "      fill: #1967D2;\n",
              "      height: 32px;\n",
              "      padding: 0 0 0 0;\n",
              "      width: 32px;\n",
              "    }\n",
              "\n",
              "    .colab-df-convert:hover {\n",
              "      background-color: #E2EBFA;\n",
              "      box-shadow: 0px 1px 2px rgba(60, 64, 67, 0.3), 0px 1px 3px 1px rgba(60, 64, 67, 0.15);\n",
              "      fill: #174EA6;\n",
              "    }\n",
              "\n",
              "    [theme=dark] .colab-df-convert {\n",
              "      background-color: #3B4455;\n",
              "      fill: #D2E3FC;\n",
              "    }\n",
              "\n",
              "    [theme=dark] .colab-df-convert:hover {\n",
              "      background-color: #434B5C;\n",
              "      box-shadow: 0px 1px 3px 1px rgba(0, 0, 0, 0.15);\n",
              "      filter: drop-shadow(0px 1px 2px rgba(0, 0, 0, 0.3));\n",
              "      fill: #FFFFFF;\n",
              "    }\n",
              "  </style>\n",
              "\n",
              "      <script>\n",
              "        const buttonEl =\n",
              "          document.querySelector('#df-39d838a3-3bd1-45e4-b29f-6affcc55ea08 button.colab-df-convert');\n",
              "        buttonEl.style.display =\n",
              "          google.colab.kernel.accessAllowed ? 'block' : 'none';\n",
              "\n",
              "        async function convertToInteractive(key) {\n",
              "          const element = document.querySelector('#df-39d838a3-3bd1-45e4-b29f-6affcc55ea08');\n",
              "          const dataTable =\n",
              "            await google.colab.kernel.invokeFunction('convertToInteractive',\n",
              "                                                     [key], {});\n",
              "          if (!dataTable) return;\n",
              "\n",
              "          const docLinkHtml = 'Like what you see? Visit the ' +\n",
              "            '<a target=\"_blank\" href=https://colab.research.google.com/notebooks/data_table.ipynb>data table notebook</a>'\n",
              "            + ' to learn more about interactive tables.';\n",
              "          element.innerHTML = '';\n",
              "          dataTable['output_type'] = 'display_data';\n",
              "          await google.colab.output.renderOutput(dataTable, element);\n",
              "          const docLink = document.createElement('div');\n",
              "          docLink.innerHTML = docLinkHtml;\n",
              "          element.appendChild(docLink);\n",
              "        }\n",
              "      </script>\n",
              "    </div>\n",
              "  </div>\n",
              "  "
            ]
          },
          "metadata": {},
          "execution_count": 4
        }
      ]
    },
    {
      "cell_type": "code",
      "source": [
        "# view first five rows of petrol gas prices dataframe\n",
        "pgp_df.head()"
      ],
      "metadata": {
        "id": "JvzUnHOoY5kb",
        "colab": {
          "base_uri": "https://localhost:8080/",
          "height": 285
        },
        "outputId": "5565e5f8-a01f-431c-bcd5-9efb0e277796"
      },
      "execution_count": 64,
      "outputs": [
        {
          "output_type": "execute_result",
          "data": {
            "text/plain": [
              "   S#        Country Daily Oil Consumption (Barrels) World Share  \\\n",
              "0   1  United States                      19,687,287         20%   \n",
              "1   2          China                      12,791,553         13%   \n",
              "2   3          India                       4,443,000          5%   \n",
              "3   4          Japan                       4,012,877          4%   \n",
              "4   5         Russia                       3,631,287          4%   \n",
              "\n",
              "   Yearly Gallons Per Capita  Price Per Gallon (USD)  Price Per Liter (USD)  \\\n",
              "0                      934.3                    5.19                   1.37   \n",
              "1                      138.7                    5.42                   1.43   \n",
              "2                       51.4                    5.05                   1.33   \n",
              "3                      481.5                    4.69                   1.24   \n",
              "4                      383.2                    3.41                   0.90   \n",
              "\n",
              "   Price Per Liter (PKR) GDP Per Capita ( USD )  \\\n",
              "0                 289.97                 63,414   \n",
              "1                 302.87                 10,435   \n",
              "2                 281.93                  1,901   \n",
              "3                 262.05                 40,193   \n",
              "4                 190.56                 10,127   \n",
              "\n",
              "  Gallons GDP Per Capita Can Buy  xTimes Yearly Gallons Per Capita Buy  \n",
              "0                         12,218                                    13  \n",
              "1                          1,925                                    14  \n",
              "2                            376                                     7  \n",
              "3                          8,570                                    18  \n",
              "4                          2,970                                     8  "
            ],
            "text/html": [
              "\n",
              "  <div id=\"df-1e764a7d-0ea5-417a-96fa-3e0d97f9474d\">\n",
              "    <div class=\"colab-df-container\">\n",
              "      <div>\n",
              "<style scoped>\n",
              "    .dataframe tbody tr th:only-of-type {\n",
              "        vertical-align: middle;\n",
              "    }\n",
              "\n",
              "    .dataframe tbody tr th {\n",
              "        vertical-align: top;\n",
              "    }\n",
              "\n",
              "    .dataframe thead th {\n",
              "        text-align: right;\n",
              "    }\n",
              "</style>\n",
              "<table border=\"1\" class=\"dataframe\">\n",
              "  <thead>\n",
              "    <tr style=\"text-align: right;\">\n",
              "      <th></th>\n",
              "      <th>S#</th>\n",
              "      <th>Country</th>\n",
              "      <th>Daily Oil Consumption (Barrels)</th>\n",
              "      <th>World Share</th>\n",
              "      <th>Yearly Gallons Per Capita</th>\n",
              "      <th>Price Per Gallon (USD)</th>\n",
              "      <th>Price Per Liter (USD)</th>\n",
              "      <th>Price Per Liter (PKR)</th>\n",
              "      <th>GDP Per Capita ( USD )</th>\n",
              "      <th>Gallons GDP Per Capita Can Buy</th>\n",
              "      <th>xTimes Yearly Gallons Per Capita Buy</th>\n",
              "    </tr>\n",
              "  </thead>\n",
              "  <tbody>\n",
              "    <tr>\n",
              "      <th>0</th>\n",
              "      <td>1</td>\n",
              "      <td>United States</td>\n",
              "      <td>19,687,287</td>\n",
              "      <td>20%</td>\n",
              "      <td>934.3</td>\n",
              "      <td>5.19</td>\n",
              "      <td>1.37</td>\n",
              "      <td>289.97</td>\n",
              "      <td>63,414</td>\n",
              "      <td>12,218</td>\n",
              "      <td>13</td>\n",
              "    </tr>\n",
              "    <tr>\n",
              "      <th>1</th>\n",
              "      <td>2</td>\n",
              "      <td>China</td>\n",
              "      <td>12,791,553</td>\n",
              "      <td>13%</td>\n",
              "      <td>138.7</td>\n",
              "      <td>5.42</td>\n",
              "      <td>1.43</td>\n",
              "      <td>302.87</td>\n",
              "      <td>10,435</td>\n",
              "      <td>1,925</td>\n",
              "      <td>14</td>\n",
              "    </tr>\n",
              "    <tr>\n",
              "      <th>2</th>\n",
              "      <td>3</td>\n",
              "      <td>India</td>\n",
              "      <td>4,443,000</td>\n",
              "      <td>5%</td>\n",
              "      <td>51.4</td>\n",
              "      <td>5.05</td>\n",
              "      <td>1.33</td>\n",
              "      <td>281.93</td>\n",
              "      <td>1,901</td>\n",
              "      <td>376</td>\n",
              "      <td>7</td>\n",
              "    </tr>\n",
              "    <tr>\n",
              "      <th>3</th>\n",
              "      <td>4</td>\n",
              "      <td>Japan</td>\n",
              "      <td>4,012,877</td>\n",
              "      <td>4%</td>\n",
              "      <td>481.5</td>\n",
              "      <td>4.69</td>\n",
              "      <td>1.24</td>\n",
              "      <td>262.05</td>\n",
              "      <td>40,193</td>\n",
              "      <td>8,570</td>\n",
              "      <td>18</td>\n",
              "    </tr>\n",
              "    <tr>\n",
              "      <th>4</th>\n",
              "      <td>5</td>\n",
              "      <td>Russia</td>\n",
              "      <td>3,631,287</td>\n",
              "      <td>4%</td>\n",
              "      <td>383.2</td>\n",
              "      <td>3.41</td>\n",
              "      <td>0.90</td>\n",
              "      <td>190.56</td>\n",
              "      <td>10,127</td>\n",
              "      <td>2,970</td>\n",
              "      <td>8</td>\n",
              "    </tr>\n",
              "  </tbody>\n",
              "</table>\n",
              "</div>\n",
              "      <button class=\"colab-df-convert\" onclick=\"convertToInteractive('df-1e764a7d-0ea5-417a-96fa-3e0d97f9474d')\"\n",
              "              title=\"Convert this dataframe to an interactive table.\"\n",
              "              style=\"display:none;\">\n",
              "        \n",
              "  <svg xmlns=\"http://www.w3.org/2000/svg\" height=\"24px\"viewBox=\"0 0 24 24\"\n",
              "       width=\"24px\">\n",
              "    <path d=\"M0 0h24v24H0V0z\" fill=\"none\"/>\n",
              "    <path d=\"M18.56 5.44l.94 2.06.94-2.06 2.06-.94-2.06-.94-.94-2.06-.94 2.06-2.06.94zm-11 1L8.5 8.5l.94-2.06 2.06-.94-2.06-.94L8.5 2.5l-.94 2.06-2.06.94zm10 10l.94 2.06.94-2.06 2.06-.94-2.06-.94-.94-2.06-.94 2.06-2.06.94z\"/><path d=\"M17.41 7.96l-1.37-1.37c-.4-.4-.92-.59-1.43-.59-.52 0-1.04.2-1.43.59L10.3 9.45l-7.72 7.72c-.78.78-.78 2.05 0 2.83L4 21.41c.39.39.9.59 1.41.59.51 0 1.02-.2 1.41-.59l7.78-7.78 2.81-2.81c.8-.78.8-2.07 0-2.86zM5.41 20L4 18.59l7.72-7.72 1.47 1.35L5.41 20z\"/>\n",
              "  </svg>\n",
              "      </button>\n",
              "      \n",
              "  <style>\n",
              "    .colab-df-container {\n",
              "      display:flex;\n",
              "      flex-wrap:wrap;\n",
              "      gap: 12px;\n",
              "    }\n",
              "\n",
              "    .colab-df-convert {\n",
              "      background-color: #E8F0FE;\n",
              "      border: none;\n",
              "      border-radius: 50%;\n",
              "      cursor: pointer;\n",
              "      display: none;\n",
              "      fill: #1967D2;\n",
              "      height: 32px;\n",
              "      padding: 0 0 0 0;\n",
              "      width: 32px;\n",
              "    }\n",
              "\n",
              "    .colab-df-convert:hover {\n",
              "      background-color: #E2EBFA;\n",
              "      box-shadow: 0px 1px 2px rgba(60, 64, 67, 0.3), 0px 1px 3px 1px rgba(60, 64, 67, 0.15);\n",
              "      fill: #174EA6;\n",
              "    }\n",
              "\n",
              "    [theme=dark] .colab-df-convert {\n",
              "      background-color: #3B4455;\n",
              "      fill: #D2E3FC;\n",
              "    }\n",
              "\n",
              "    [theme=dark] .colab-df-convert:hover {\n",
              "      background-color: #434B5C;\n",
              "      box-shadow: 0px 1px 3px 1px rgba(0, 0, 0, 0.15);\n",
              "      filter: drop-shadow(0px 1px 2px rgba(0, 0, 0, 0.3));\n",
              "      fill: #FFFFFF;\n",
              "    }\n",
              "  </style>\n",
              "\n",
              "      <script>\n",
              "        const buttonEl =\n",
              "          document.querySelector('#df-1e764a7d-0ea5-417a-96fa-3e0d97f9474d button.colab-df-convert');\n",
              "        buttonEl.style.display =\n",
              "          google.colab.kernel.accessAllowed ? 'block' : 'none';\n",
              "\n",
              "        async function convertToInteractive(key) {\n",
              "          const element = document.querySelector('#df-1e764a7d-0ea5-417a-96fa-3e0d97f9474d');\n",
              "          const dataTable =\n",
              "            await google.colab.kernel.invokeFunction('convertToInteractive',\n",
              "                                                     [key], {});\n",
              "          if (!dataTable) return;\n",
              "\n",
              "          const docLinkHtml = 'Like what you see? Visit the ' +\n",
              "            '<a target=\"_blank\" href=https://colab.research.google.com/notebooks/data_table.ipynb>data table notebook</a>'\n",
              "            + ' to learn more about interactive tables.';\n",
              "          element.innerHTML = '';\n",
              "          dataTable['output_type'] = 'display_data';\n",
              "          await google.colab.output.renderOutput(dataTable, element);\n",
              "          const docLink = document.createElement('div');\n",
              "          docLink.innerHTML = docLinkHtml;\n",
              "          element.appendChild(docLink);\n",
              "        }\n",
              "      </script>\n",
              "    </div>\n",
              "  </div>\n",
              "  "
            ]
          },
          "metadata": {},
          "execution_count": 64
        }
      ]
    },
    {
      "cell_type": "markdown",
      "source": [
        "________________________________________________________________________________________\n",
        "# Question No.1  - Traffic Accident Dataset\n",
        "________________________________________________________________________________________"
      ],
      "metadata": {
        "id": "WP9FJD5yb9WN"
      }
    },
    {
      "cell_type": "markdown",
      "source": [
        "Don't run this cell twice!"
      ],
      "metadata": {
        "id": "qsfozDBPhTUk"
      }
    },
    {
      "cell_type": "code",
      "source": [
        "# First we need to clean this data as columns are defined in second row\n",
        "ta_df = ta_df.set_axis(ta_df.iloc[1], axis=1)\n",
        "\n",
        "# after second row is set as column we drop first and second row with \"NaN\" values and column values respectively\n",
        "ta_df = ta_df.drop(index=[0, 1])\n",
        "\n",
        "# setting first column as \"Province\" into new dataframe \n",
        "ta_df_p = ta_df.rename(columns = { ta_df.columns[0] : 'Province' })"
      ],
      "metadata": {
        "id": "cHq7dZcHcO3e"
      },
      "execution_count": 6,
      "outputs": []
    },
    {
      "cell_type": "code",
      "source": [
        "ta_df_p.head()"
      ],
      "metadata": {
        "colab": {
          "base_uri": "https://localhost:8080/",
          "height": 206
        },
        "id": "ZGTXBiO6x1El",
        "outputId": "aa19122b-df53-4a9d-8016-4e58d0a13e9e"
      },
      "execution_count": 7,
      "outputs": [
        {
          "output_type": "execute_result",
          "data": {
            "text/plain": [
              "1  Province        Year Total number of accidents Fatal Accidents  \\\n",
              "2  Pakistan     2008-09                      9496            4145   \n",
              "3  Pakistan     2009-10                      9747            4378   \n",
              "4  Pakistan     2010-11                      9723            4280   \n",
              "5  Pakistan     2011-12                      9140            3966   \n",
              "6  Pakistan  2012-13 *                       8988            3884   \n",
              "\n",
              "1 Non-Fatal Accidents Killed Injured Total number of vehicles involved  \n",
              "2                5351   4907   11037                             10322  \n",
              "3                5369   5280   11173                             10496  \n",
              "4                5443   5271   11383                             10822  \n",
              "5                5174   4758   10145                              9986  \n",
              "6                5104   4719    9710                              9876  "
            ],
            "text/html": [
              "\n",
              "  <div id=\"df-00a463ef-d52c-432f-866e-0cb3949ce682\">\n",
              "    <div class=\"colab-df-container\">\n",
              "      <div>\n",
              "<style scoped>\n",
              "    .dataframe tbody tr th:only-of-type {\n",
              "        vertical-align: middle;\n",
              "    }\n",
              "\n",
              "    .dataframe tbody tr th {\n",
              "        vertical-align: top;\n",
              "    }\n",
              "\n",
              "    .dataframe thead th {\n",
              "        text-align: right;\n",
              "    }\n",
              "</style>\n",
              "<table border=\"1\" class=\"dataframe\">\n",
              "  <thead>\n",
              "    <tr style=\"text-align: right;\">\n",
              "      <th>1</th>\n",
              "      <th>Province</th>\n",
              "      <th>Year</th>\n",
              "      <th>Total number of accidents</th>\n",
              "      <th>Fatal Accidents</th>\n",
              "      <th>Non-Fatal Accidents</th>\n",
              "      <th>Killed</th>\n",
              "      <th>Injured</th>\n",
              "      <th>Total number of vehicles involved</th>\n",
              "    </tr>\n",
              "  </thead>\n",
              "  <tbody>\n",
              "    <tr>\n",
              "      <th>2</th>\n",
              "      <td>Pakistan</td>\n",
              "      <td>2008-09</td>\n",
              "      <td>9496</td>\n",
              "      <td>4145</td>\n",
              "      <td>5351</td>\n",
              "      <td>4907</td>\n",
              "      <td>11037</td>\n",
              "      <td>10322</td>\n",
              "    </tr>\n",
              "    <tr>\n",
              "      <th>3</th>\n",
              "      <td>Pakistan</td>\n",
              "      <td>2009-10</td>\n",
              "      <td>9747</td>\n",
              "      <td>4378</td>\n",
              "      <td>5369</td>\n",
              "      <td>5280</td>\n",
              "      <td>11173</td>\n",
              "      <td>10496</td>\n",
              "    </tr>\n",
              "    <tr>\n",
              "      <th>4</th>\n",
              "      <td>Pakistan</td>\n",
              "      <td>2010-11</td>\n",
              "      <td>9723</td>\n",
              "      <td>4280</td>\n",
              "      <td>5443</td>\n",
              "      <td>5271</td>\n",
              "      <td>11383</td>\n",
              "      <td>10822</td>\n",
              "    </tr>\n",
              "    <tr>\n",
              "      <th>5</th>\n",
              "      <td>Pakistan</td>\n",
              "      <td>2011-12</td>\n",
              "      <td>9140</td>\n",
              "      <td>3966</td>\n",
              "      <td>5174</td>\n",
              "      <td>4758</td>\n",
              "      <td>10145</td>\n",
              "      <td>9986</td>\n",
              "    </tr>\n",
              "    <tr>\n",
              "      <th>6</th>\n",
              "      <td>Pakistan</td>\n",
              "      <td>2012-13 *</td>\n",
              "      <td>8988</td>\n",
              "      <td>3884</td>\n",
              "      <td>5104</td>\n",
              "      <td>4719</td>\n",
              "      <td>9710</td>\n",
              "      <td>9876</td>\n",
              "    </tr>\n",
              "  </tbody>\n",
              "</table>\n",
              "</div>\n",
              "      <button class=\"colab-df-convert\" onclick=\"convertToInteractive('df-00a463ef-d52c-432f-866e-0cb3949ce682')\"\n",
              "              title=\"Convert this dataframe to an interactive table.\"\n",
              "              style=\"display:none;\">\n",
              "        \n",
              "  <svg xmlns=\"http://www.w3.org/2000/svg\" height=\"24px\"viewBox=\"0 0 24 24\"\n",
              "       width=\"24px\">\n",
              "    <path d=\"M0 0h24v24H0V0z\" fill=\"none\"/>\n",
              "    <path d=\"M18.56 5.44l.94 2.06.94-2.06 2.06-.94-2.06-.94-.94-2.06-.94 2.06-2.06.94zm-11 1L8.5 8.5l.94-2.06 2.06-.94-2.06-.94L8.5 2.5l-.94 2.06-2.06.94zm10 10l.94 2.06.94-2.06 2.06-.94-2.06-.94-.94-2.06-.94 2.06-2.06.94z\"/><path d=\"M17.41 7.96l-1.37-1.37c-.4-.4-.92-.59-1.43-.59-.52 0-1.04.2-1.43.59L10.3 9.45l-7.72 7.72c-.78.78-.78 2.05 0 2.83L4 21.41c.39.39.9.59 1.41.59.51 0 1.02-.2 1.41-.59l7.78-7.78 2.81-2.81c.8-.78.8-2.07 0-2.86zM5.41 20L4 18.59l7.72-7.72 1.47 1.35L5.41 20z\"/>\n",
              "  </svg>\n",
              "      </button>\n",
              "      \n",
              "  <style>\n",
              "    .colab-df-container {\n",
              "      display:flex;\n",
              "      flex-wrap:wrap;\n",
              "      gap: 12px;\n",
              "    }\n",
              "\n",
              "    .colab-df-convert {\n",
              "      background-color: #E8F0FE;\n",
              "      border: none;\n",
              "      border-radius: 50%;\n",
              "      cursor: pointer;\n",
              "      display: none;\n",
              "      fill: #1967D2;\n",
              "      height: 32px;\n",
              "      padding: 0 0 0 0;\n",
              "      width: 32px;\n",
              "    }\n",
              "\n",
              "    .colab-df-convert:hover {\n",
              "      background-color: #E2EBFA;\n",
              "      box-shadow: 0px 1px 2px rgba(60, 64, 67, 0.3), 0px 1px 3px 1px rgba(60, 64, 67, 0.15);\n",
              "      fill: #174EA6;\n",
              "    }\n",
              "\n",
              "    [theme=dark] .colab-df-convert {\n",
              "      background-color: #3B4455;\n",
              "      fill: #D2E3FC;\n",
              "    }\n",
              "\n",
              "    [theme=dark] .colab-df-convert:hover {\n",
              "      background-color: #434B5C;\n",
              "      box-shadow: 0px 1px 3px 1px rgba(0, 0, 0, 0.15);\n",
              "      filter: drop-shadow(0px 1px 2px rgba(0, 0, 0, 0.3));\n",
              "      fill: #FFFFFF;\n",
              "    }\n",
              "  </style>\n",
              "\n",
              "      <script>\n",
              "        const buttonEl =\n",
              "          document.querySelector('#df-00a463ef-d52c-432f-866e-0cb3949ce682 button.colab-df-convert');\n",
              "        buttonEl.style.display =\n",
              "          google.colab.kernel.accessAllowed ? 'block' : 'none';\n",
              "\n",
              "        async function convertToInteractive(key) {\n",
              "          const element = document.querySelector('#df-00a463ef-d52c-432f-866e-0cb3949ce682');\n",
              "          const dataTable =\n",
              "            await google.colab.kernel.invokeFunction('convertToInteractive',\n",
              "                                                     [key], {});\n",
              "          if (!dataTable) return;\n",
              "\n",
              "          const docLinkHtml = 'Like what you see? Visit the ' +\n",
              "            '<a target=\"_blank\" href=https://colab.research.google.com/notebooks/data_table.ipynb>data table notebook</a>'\n",
              "            + ' to learn more about interactive tables.';\n",
              "          element.innerHTML = '';\n",
              "          dataTable['output_type'] = 'display_data';\n",
              "          await google.colab.output.renderOutput(dataTable, element);\n",
              "          const docLink = document.createElement('div');\n",
              "          docLink.innerHTML = docLinkHtml;\n",
              "          element.appendChild(docLink);\n",
              "        }\n",
              "      </script>\n",
              "    </div>\n",
              "  </div>\n",
              "  "
            ]
          },
          "metadata": {},
          "execution_count": 7
        }
      ]
    },
    {
      "cell_type": "markdown",
      "source": [
        "________________________________________________________________________________________\n",
        "1. In which province the most accidents have occured\n",
        "________________________________________________________________________________________\n",
        "As the output shows highest accidents province is **Punjab** (This output is without the max() query)\n",
        "\n",
        " ![from my github repo](https://raw.githubusercontent.com/hassandsriaz/DS-211-Assignments/main/images/1.png )\n",
        "\n",
        "\n"
      ],
      "metadata": {
        "id": "SJkltXZ3SQlr"
      }
    },
    {
      "cell_type": "code",
      "source": [
        "# converting 'Total number of accidents' column datatype into integer to find sum \n",
        "ta_df_p['Total number of accidents'] = ta_df_p['Total number of accidents'].astype(int)\n",
        "\n",
        "# Group by province and sum the total number of accidents and dropping pakistan as it is'nt a province\n",
        "grouped = ta_df_p.groupby('Province')['Total number of accidents'].sum().sort_values().drop('Pakistan')\n",
        "\n",
        "# Get the province with the highest value\n",
        "province = grouped.idxmax()\n",
        "\n",
        "# Get the highest value\n",
        "highest_value = grouped.max()\n",
        "\n",
        "print(\"Province with highest accidents:\", province)\n",
        "print(\"No. of accidents:\", highest_value)"
      ],
      "metadata": {
        "id": "jrxLnRxqSjf0",
        "colab": {
          "base_uri": "https://localhost:8080/"
        },
        "outputId": "2071ba4c-89cb-4f70-90d8-de544c65eb51"
      },
      "execution_count": null,
      "outputs": [
        {
          "output_type": "stream",
          "name": "stdout",
          "text": [
            "Province with highest accidents: Punjab\n",
            "No. of accidents: 49354\n"
          ]
        }
      ]
    },
    {
      "cell_type": "markdown",
      "source": [
        "________________________________________________________________________________________\n",
        "2. In which province the least accidents have occured\n",
        "________________________________________________________________________________________\n",
        "As the output shows least accidents province is **Islamabad**  \n",
        "![ from my github repo ](https://raw.githubusercontent.com/hassandsriaz/DS-211-Assignments/main/images/q1_22.png)"
      ],
      "metadata": {
        "id": "03_0svEnwxg_"
      }
    },
    {
      "cell_type": "code",
      "source": [
        "# Get the province with the least value\n",
        "province = grouped.idxmin()\n",
        "\n",
        "# Get the minimum value\n",
        "least_value = grouped.min()\n",
        "\n",
        "print(\"Province with least accidents:\", province)\n",
        "print(\"No. of accidents:\", least_value)"
      ],
      "metadata": {
        "id": "0qGGX6IPw061"
      },
      "execution_count": null,
      "outputs": []
    },
    {
      "cell_type": "markdown",
      "source": [
        "________________________________________________________________________________________\n",
        "3. In which province most people were killed?  \n",
        "________________________________________________________________________________________\n",
        "As the output shows highest deaths province is **Punjab**  \n",
        "![ from my github repo ](https://raw.githubusercontent.com/hassandsriaz/DS-211-Assignments/main/images/q12.png)\n"
      ],
      "metadata": {
        "id": "BlA_NyIH1iMk"
      }
    },
    {
      "cell_type": "code",
      "source": [
        "# converting 'Killed' column datatype into integer to find sum \n",
        "ta_df_p['Killed'] = ta_df_p['Killed'].astype(int)\n",
        "\n",
        "# Group by province and sum the total number of deaths and dropping pakistan as it is'nt a province\n",
        "grouped = ta_df_p.groupby('Province')['Killed'].sum().sort_values().drop('Pakistan')\n",
        "\n",
        "# Get the province with the highest value\n",
        "province = grouped.idxmax()\n",
        "\n",
        "# Get the highest value\n",
        "highest_value = grouped.max()\n",
        "\n",
        "print(\"Province with highest Deaths:\", province)\n",
        "print(\"No. of Deaths:\", highest_value)\n"
      ],
      "metadata": {
        "id": "y-vr1Od_8dnb"
      },
      "execution_count": null,
      "outputs": []
    },
    {
      "cell_type": "markdown",
      "source": [
        "________________________________________________________________________________________\n",
        "4. In which province least people were killed?\n",
        "________________________________________________________________________________________\n",
        "As the output shows least deaths province is **Islamabad** \n",
        "\n",
        "![from my github repo](https://raw.githubusercontent.com/hassandsriaz/DS-211-Assignments/main/images/q1_4.png)"
      ],
      "metadata": {
        "id": "tuHMcY7Y2W_i"
      }
    },
    {
      "cell_type": "code",
      "source": [
        "# Get the province with the least value\n",
        "province = grouped.idxmin()\n",
        "\n",
        "# Get the lowest value\n",
        "highest_value = grouped.min()\n",
        "\n",
        "print(\"Province with least Deaths:\", province)\n",
        "print(\"No. of Deaths:\", highest_value)\n"
      ],
      "metadata": {
        "id": "2iCSsGY4_Vbl"
      },
      "execution_count": null,
      "outputs": []
    },
    {
      "cell_type": "markdown",
      "source": [
        "________________________________________________________________________________________\n",
        "5. In which province most people were injured?\n",
        "________________________________________________________________________________________\n",
        "As the output shows most injuries province is **Punjab**   \n",
        "![from my github repo](https://raw.githubusercontent.com/hassandsriaz/DS-211-Assignments/main/images/q1_5.png)\n"
      ],
      "metadata": {
        "id": "VugQB8cR2Xn9"
      }
    },
    {
      "cell_type": "code",
      "source": [
        "# converting 'Injured' column datatype into integer to find sum \n",
        "ta_df_p['Injured'] = ta_df_p['Injured'].astype(int)\n",
        "\n",
        "# Group by province and sum the total number of Injuries and dropping pakistan as it is'nt a province\n",
        "grouped_i = ta_df_p.groupby('Province')['Injured'].sum().sort_values().drop('Pakistan')\n",
        "\n",
        "# Get the province with the highest value\n",
        "province = grouped_i.idxmax()\n",
        "\n",
        "# Get the highest value\n",
        "highest_value = grouped_i.max()\n",
        "\n",
        "print(\"Province with highest Injuries:\", province)\n",
        "print(\"No. of Injuries:\", highest_value)"
      ],
      "metadata": {
        "colab": {
          "base_uri": "https://localhost:8080/"
        },
        "id": "9sjc9xImAUXK",
        "outputId": "f6cfb2e2-ad5a-448a-bd78-109c391d8c01"
      },
      "execution_count": null,
      "outputs": [
        {
          "output_type": "stream",
          "name": "stdout",
          "text": [
            "Province with highest Injuries: Punjab\n",
            "No. of Injuries: 57103\n"
          ]
        }
      ]
    },
    {
      "cell_type": "markdown",
      "source": [
        "________________________________________________________________________________________\n",
        "6. In which province least people were injured?\n",
        "________________________________________________________________________________________\n",
        "As the output shows least injuries province is **Islamabad**   \n",
        "![from my github repo](https://raw.githubusercontent.com/hassandsriaz/DS-211-Assignments/main/images/q1_6.png)\n"
      ],
      "metadata": {
        "id": "K-umkoFZ2X3v"
      }
    },
    {
      "cell_type": "code",
      "source": [
        "# Get the province with the least value\n",
        "province = grouped_i.idxmin()\n",
        "\n",
        "# Get the lowest value\n",
        "highest_value = grouped_i.min()\n",
        "\n",
        "print(\"Province with least Injuries:\", province)\n",
        "print(\"No. of Injuries:\", highest_value)"
      ],
      "metadata": {
        "id": "C-xHT7FMAl9u"
      },
      "execution_count": null,
      "outputs": []
    },
    {
      "cell_type": "markdown",
      "source": [
        "________________________________________________________________________________________\n",
        "7. In which year most accident has occurred?  \n",
        "________________________________________________________________________________________\n",
        "As the output shows most accidents were occured in year **2017**\n",
        "\n",
        "![from my github repo](https://raw.githubusercontent.com/hassandsriaz/DS-211-Assignments/main/images/q1_7.png)"
      ],
      "metadata": {
        "id": "s56sl97g2YCc"
      }
    },
    {
      "cell_type": "code",
      "source": [
        "# datatype from object to integer\n",
        "ta_df_p['Total number of accidents'] = ta_df_p['Total number of accidents'].astype(int)\n",
        "\n",
        "#mask with true values against all 'Pakistan' values in province column\n",
        "mask = ta_df_p['Province'] == 'Pakistan'\n",
        "\n",
        "#datafame of mask\n",
        "pak_only_df = ta_df_p[mask]\n",
        "\n",
        "#group by year\n",
        "year_group = pak_only_df.groupby('Year')['Total number of accidents'].sum()\n",
        "\n",
        "#returns index of highest value\n",
        "year = year_group.idxmax()\n",
        "\n",
        "#returns max value\n",
        "accidents = year_group.max()\n",
        "\n",
        "print(\"The year with highest accidents: \" + year)\n",
        "print(\"No. of accidents in \" + year + \" : \" , accidents)\n"
      ],
      "metadata": {
        "id": "F30QmK2LDJxJ"
      },
      "execution_count": null,
      "outputs": []
    },
    {
      "cell_type": "markdown",
      "source": [
        "________________________________________________________________________________________\n",
        "8. In which year least accident has occurred?\n",
        "________________________________________________________________________________________\n",
        "As the output shows most least were occured in year **2014**\n",
        "\n",
        "![from my github repo](https://raw.githubusercontent.com/hassandsriaz/DS-211-Assignments/main/images/q1_8.png)"
      ],
      "metadata": {
        "id": "PzgTDPQI2YLN"
      }
    },
    {
      "cell_type": "code",
      "source": [
        "#returns index of lowest value\n",
        "year = year_group.idxmin()\n",
        "\n",
        "#returns minimum value\n",
        "accidents = year_group.min()\n",
        "\n",
        "print(\"The year with lowest accidents: \" + year)\n",
        "print(\"No. of accidents in \" + year + \" : \" , accidents)"
      ],
      "metadata": {
        "colab": {
          "base_uri": "https://localhost:8080/"
        },
        "id": "haxrNDdiMdhJ",
        "outputId": "8252c078-d8a1-465b-8df2-fe97fdb9cf4d"
      },
      "execution_count": null,
      "outputs": [
        {
          "output_type": "stream",
          "name": "stdout",
          "text": [
            "The year with lowest accidents: 2014-15*\n",
            "No. of accidents in 2014-15* :  7865\n"
          ]
        }
      ]
    },
    {
      "cell_type": "markdown",
      "source": [
        "________________________________________________________________________________________\n",
        "# Question No.2  - Petrol Gas Prices Worldwide Dataset\n",
        "________________________________________________________________________________________"
      ],
      "metadata": {
        "id": "iLUOiqJTOQ_0"
      }
    },
    {
      "cell_type": "code",
      "source": [
        "# importing seaborn library\n",
        "import seaborn as sns\n",
        "\n",
        "\n",
        "# importing matplotlib library\n",
        "from matplotlib import pyplot as plt\n",
        "\n",
        "# To view vizualizations on notebooks\n",
        "%matplotlib inline"
      ],
      "metadata": {
        "id": "0SMyTwg-yceO"
      },
      "execution_count": 51,
      "outputs": []
    },
    {
      "cell_type": "markdown",
      "source": [
        "##**Top Five Oil Consuming Countries Price Comparison:**    \n",
        "Since we have data of countries and prices respective of each country, one useful information we can extract is comparison of oil prices per liter or gallon by comparing  \n",
        "\n"
      ],
      "metadata": {
        "id": "2u_QnVY2IS7p"
      }
    },
    {
      "cell_type": "code",
      "source": [
        "\n",
        "countries = [i for i in pgp_df['Country'].head()]\n",
        "oil_price = [i for i in pgp_df['Price Per Liter (PKR)'].head()]\n",
        "\n",
        "plt.style.use('seaborn')\n",
        "\n",
        "\n",
        "fig, ax = plt.subplots()\n",
        "\n",
        "# Create the bar chart \n",
        "ax.bar(countries, oil_price)\n",
        "\n",
        "\n",
        "# Set the title and axis labels\n",
        "ax.set_title('Top Five Oil Consuming Countries Price Comparison (PKR)')\n",
        "ax.set_xlabel('Country')\n",
        "ax.set_ylabel('Price')\n",
        "\n",
        "\n",
        "plt.tight_layout()\n",
        "\n",
        "# Display the plot\n",
        "plt.show()"
      ],
      "metadata": {
        "id": "_3Ii27Vy45Pg",
        "colab": {
          "base_uri": "https://localhost:8080/",
          "height": 405
        },
        "outputId": "f6d12da0-3c3c-40f4-8669-586190aeb34e"
      },
      "execution_count": 65,
      "outputs": [
        {
          "output_type": "display_data",
          "data": {
            "text/plain": [
              "<Figure size 576x396 with 1 Axes>"
            ],
            "image/png": "[encoded data removed]"
          },
          "metadata": {}
        }
      ]
    },
    {
      "cell_type": "markdown",
      "source": [
        "### *Conclusion from the visualization:*\n",
        "\n",
        "From this visualization we can draw following conclusions;  \n",
        " \n",
        "   \n",
        "1. Oil producing countries have comparitively lower prices such as; USA, Russia \n",
        "depite being top oil consumers\n",
        "2. China by far has the highest oil price, this could indicate that china has highest oil depedency\n",
        "3. Russia being top five oil consumers still has lowest oil prices"
      ],
      "metadata": {
        "id": "N4PG6LqZAH4P"
      }
    },
    {
      "cell_type": "markdown",
      "source": [
        "##**Oil prices in Pakistan compared to other countries**:  \n",
        "By comparing the petrol prices in Pakistan with other countries, we can see if Pakistan has higher or lower petrol prices compared to other countries by taking an average of Oil prices in other countries."
      ],
      "metadata": {
        "id": "EJLxRI86PC1U"
      }
    },
    {
      "cell_type": "code",
      "source": [
        "# dataframe that contains all entries against columns for information related to pakistan\n",
        "pak = pgp_df['Country'] == 'Pakistan'\n",
        "pak_df = pgp_df[pak]\n",
        "\n",
        "# dataframe that contains average of information related to all countries other than pakistan\n",
        "all = pgp_df['Country'] != 'Pakistan'\n",
        "all_df = pgp_df[all]\n",
        "\n",
        "# Petrol price in pakistan\n",
        "avg_pak = pak_df['Price Per Liter (PKR)']\n",
        "\n",
        "# average of Oil prices in countries other than pakistan\n",
        "avg_all = all_df['Price Per Liter (PKR)'].mean()\n",
        "\n",
        "plt.style.use('seaborn')\n",
        "\n",
        "#Labels\n",
        "x_labels = ['Pakistan', 'All Countries']\n",
        "\n",
        "# Create a figure and axis object\n",
        "fig, ax = plt.subplots()\n",
        "\n",
        "# evenly spaced numbers using numpy\n",
        "x_pos = np.arange(len(x_labels))\n",
        "\n",
        "# Create a bar plot\n",
        "ax.bar(x_pos, [avg_pak, avg_all], align='center', alpha=0.5)\n",
        "ax.set_xticks(x_pos)\n",
        "ax.set_xticklabels(x_labels)\n",
        "\n",
        "# Set the title and axis labels\n",
        "ax.set_title('Comparison of Oil Prices (PKR)')\n",
        "ax.set_ylabel('Price Per Liter (PKR)')\n",
        "\n",
        "# Show the plot\n",
        "plt.show()"
      ],
      "metadata": {
        "colab": {
          "base_uri": "https://localhost:8080/",
          "height": 417
        },
        "id": "VbgbZECqPKA8",
        "outputId": "de8a716c-d557-4eba-9863-bb8d064995ba"
      },
      "execution_count": 60,
      "outputs": [
        {
          "output_type": "stream",
          "name": "stderr",
          "text": [
            "/usr/local/lib/python3.8/dist-packages/numpy/lib/stride_tricks.py:536: VisibleDeprecationWarning: Creating an ndarray from ragged nested sequences (which is a list-or-tuple of lists-or-tuples-or ndarrays with different lengths or shapes) is deprecated. If you meant to do this, you must specify 'dtype=object' when creating the ndarray.\n",
            "  args = [np.array(_m, copy=False, subok=subok) for _m in args]\n"
          ]
        },
        {
          "output_type": "display_data",
          "data": {
            "text/plain": [
              "<Figure size 576x396 with 1 Axes>"
            ],
            "image/png": "[encoded data removed]"
          },
          "metadata": {}
        }
      ]
    },
    {
      "cell_type": "markdown",
      "source": [
        "### *Conclusion from the visualization:*\n",
        "\n",
        "The above bar graph output shows us that oil price per liter in pakistan compared to average of all other countries is a little cheaper, Though this price is still considered high for pakistanis because of GDP, inflation and less income overall."
      ],
      "metadata": {
        "id": "enzRtZy99_RF"
      }
    },
    {
      "cell_type": "code",
      "source": [
        "\n",
        "# Data\n",
        "labels = [i for i in pgp_df['Country'].head()]\n",
        "share = [i for i in pgp_df['World Share'].head()]  # World share percentages\n",
        "\n",
        "# convert percentage list into integer\n",
        "int_list = [int(s.strip('%')) for s in share]\n",
        "\n",
        "# Adding \"Others\" to avoid too much values (overcrowded) of pie chart using append function\n",
        "labels.append('Others')\n",
        "int_list.append(100 - sum(i for i in int_list))\n",
        "\n",
        "\n",
        "#Create a figure and axis object\n",
        "fig, ax = plt.subplots()\n",
        "\n",
        "# Create a pie chart\n",
        "ax.pie(int_list , labels=labels, autopct='%1.1f%%', startangle=90)\n",
        "\n",
        "# Set the title\n",
        "ax.set_title('World Share of Oil Consumption')\n",
        "\n",
        "# Show the plot\n",
        "plt.show()"
      ],
      "metadata": {
        "colab": {
          "base_uri": "https://localhost:8080/",
          "height": 345
        },
        "id": "fKx4iUzwIUs_",
        "outputId": "f4c6966d-e579-413f-b31a-5e7aedd6124b"
      },
      "execution_count": 95,
      "outputs": [
        {
          "output_type": "display_data",
          "data": {
            "text/plain": [
              "<Figure size 576x396 with 1 Axes>"
            ],
            "image/png": "[encoded data removed]"
          },
          "metadata": {}
        }
      ]
    },
    {
      "cell_type": "markdown",
      "source": [
        "### *Conclusion from the visualization:*\n",
        "\n",
        "From this pie chart we can quickly visualize that most oil consuming country is USA, followed by china and others.\n",
        "___________________________________________________________________\n",
        "| Countries     | World Share   |\n",
        "| ------------- |:-------------:|\n",
        "| United States | 20%           |\n",
        "| China         | 13%           |\n",
        "| India         | 5%            |\n",
        "| Japan         | 4%            |\n",
        "| Russia        | 4%            |\n",
        "\n",
        "___________________________________________________________________"
      ],
      "metadata": {
        "id": "6x-b5qwdJ08T"
      }
    }
  ]
}